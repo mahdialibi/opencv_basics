{
  "nbformat": 4,
  "nbformat_minor": 0,
  "metadata": {
    "colab": {
      "name": "opencv_study.ipynb",
      "provenance": []
    },
    "kernelspec": {
      "name": "python3",
      "display_name": "Python 3"
    },
    "language_info": {
      "name": "python"
    }
  },
  "cells": [
    {
      "cell_type": "markdown",
      "source": [
        "I will make some examples of functions in opencv , the main goal of this notebook is to make me familiar with opencv , feel free to copy what you want"
      ],
      "metadata": {
        "id": "jA5AiUBIsywK"
      }
    },
    {
      "cell_type": "code",
      "execution_count": null,
      "metadata": {
        "id": "zWUyCCdksiKH"
      },
      "outputs": [],
      "source": [
        "import numpy as np\n",
        "import matplotlib.pyplot as plt \n",
        "import cv2 as cv"
      ]
    },
    {
      "cell_type": "markdown",
      "source": [
        "# **Transforming images**"
      ],
      "metadata": {
        "id": "1NgcBMmttSKn"
      }
    },
    {
      "cell_type": "code",
      "source": [
        "#just to downloqd an example image\n",
        "!wget https://larsee.com/blog/2018/07/making-sharp-and-compact-pdfs-from-scans/test-document-photo.jpg"
      ],
      "metadata": {
        "colab": {
          "base_uri": "https://localhost:8080/"
        },
        "id": "LELs_B6Dsxiy",
        "outputId": "e73a0a89-62c4-4419-bdd6-22618b519d18"
      },
      "execution_count": null,
      "outputs": [
        {
          "output_type": "stream",
          "name": "stdout",
          "text": [
            "--2022-01-02 03:04:23--  https://larsee.com/blog/2018/07/making-sharp-and-compact-pdfs-from-scans/test-document-photo.jpg\n",
            "Resolving larsee.com (larsee.com)... 188.166.27.34\n",
            "Connecting to larsee.com (larsee.com)|188.166.27.34|:443... connected.\n",
            "HTTP request sent, awaiting response... 200 OK\n",
            "Length: 416829 (407K) [image/jpeg]\n",
            "Saving to: ‘test-document-photo.jpg’\n",
            "\n",
            "test-document-photo 100%[===================>] 407.06K  1.40MB/s    in 0.3s    \n",
            "\n",
            "2022-01-02 03:04:24 (1.40 MB/s) - ‘test-document-photo.jpg’ saved [416829/416829]\n",
            "\n"
          ]
        }
      ]
    },
    {
      "cell_type": "code",
      "source": [
        "img=cv.imread('test-document-photo.jpg')\n",
        "cv.im"
      ],
      "metadata": {
        "colab": {
          "base_uri": "https://localhost:8080/"
        },
        "id": "FkxNsdlPvsLj",
        "outputId": "eecd3288-eb06-403b-881f-68e09a70596c"
      },
      "execution_count": null,
      "outputs": [
        {
          "output_type": "execute_result",
          "data": {
            "text/plain": [
              "array([[[ 57,  70,  96],\n",
              "        [ 60,  73,  99],\n",
              "        [ 66,  79, 105],\n",
              "        ...,\n",
              "        [ 12,  34,  70],\n",
              "        [  7,  29,  65],\n",
              "        [  2,  24,  60]],\n",
              "\n",
              "       [[ 38,  51,  77],\n",
              "        [ 45,  58,  84],\n",
              "        [ 43,  56,  82],\n",
              "        ...,\n",
              "        [  0,  22,  58],\n",
              "        [  0,  19,  55],\n",
              "        [  3,  25,  61]],\n",
              "\n",
              "       [[ 59,  72,  98],\n",
              "        [ 68,  81, 107],\n",
              "        [ 56,  69,  95],\n",
              "        ...,\n",
              "        [  4,  26,  62],\n",
              "        [  2,  24,  60],\n",
              "        [  1,  23,  59]],\n",
              "\n",
              "       ...,\n",
              "\n",
              "       [[ 33,  44,  64],\n",
              "        [ 35,  46,  66],\n",
              "        [ 28,  39,  59],\n",
              "        ...,\n",
              "        [ 15,  62, 113],\n",
              "        [ 10,  55, 106],\n",
              "        [ 20,  65, 116]],\n",
              "\n",
              "       [[ 37,  48,  70],\n",
              "        [ 33,  44,  66],\n",
              "        [ 40,  51,  73],\n",
              "        ...,\n",
              "        [ 14,  54, 106],\n",
              "        [ 15,  58, 109],\n",
              "        [  6,  49, 100]],\n",
              "\n",
              "       [[ 45,  52,  77],\n",
              "        [ 46,  54,  77],\n",
              "        [ 42,  53,  75],\n",
              "        ...,\n",
              "        [ 10,  43,  93],\n",
              "        [  1,  36,  86],\n",
              "        [  3,  43,  92]]], dtype=uint8)"
            ]
          },
          "metadata": {},
          "execution_count": 5
        }
      ]
    }
  ]
}